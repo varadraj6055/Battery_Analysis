import pandas as pd
import numpy as np
import matplotlib.pyplot as plt
from mpl_toolkits.mplot3d import Axes3D
from sklearn.linear_model import LinearRegression
from sklearn.model_selection import train_test_split
from sklearn.metrics import mean_squared_error, r2_score


data = pd.read_csv("your_file.csv")



data["Re_Z"] = data["Voltage_measured"] / (data["Current_load"] + 1e-9)
data["Im_Z"] = np.tan(data["Voltage_measured"])  # Proxy for Im(Z)
data["Cycle_count"] = np.linspace(1, len(data), len(data))  # Fake cycle count for plotting

fig = plt.figure(figsize=(10, 8))
ax = fig.add_subplot(111, projection='3d')
ax.scatter(data["Re_Z"], data["Im_Z"], data["Cycle_count"], c=data["Cycle_count"], cmap='viridis')
ax.set_title("3D Plot: Impedance Re(Z) vs Im(Z) vs Cycle Count", fontsize=14)
ax.set_xlabel("Re(Z) [Ohm]")
ax.set_ylabel("Im(Z) [Proxy]")
ax.set_zlabel("Cycle Count")
plt.show()

data["dQ/dV"] = data["Capacity"].diff() / data["Voltage_measured"].diff()

plt.figure(figsize=(8, 6))
plt.plot(data["Voltage_measured"], data["dQ/dV"], label="dQ/dV")
plt.title("Incremental Capacity Analysis (ICA): dQ/dV vs Voltage")
plt.xlabel("Voltage (V)")
plt.ylabel("dQ/dV")
plt.legend()
plt.grid()
plt.show()

X = data[["Re_Z", "Im_Z"]].fillna(0)  # Replace NaNs with 0 for simplicity
y = data["Capacity"].fillna(0)

X_train, X_test, y_train, y_test = train_test_split(X, y, test_size=0.2, random_state=42)

model = LinearRegression()
model.fit(X_train, y_train)

y_pred = model.predict(X_test)


mse = mean_squared_error(y_test, y_pred)
r2 = r2_score(y_test, y_pred)

print(f"Model Evaluation:\nMSE: {mse:.2f}\nR2 Score: {r2:.2f}")

plt.figure(figsize=(8, 6))
plt.scatter(y_test, y_pred, alpha=0.7, label="Predictions")
plt.plot(y_test, y_test, color="red", label="Actual")
plt.title("Predicted vs Actual Capacity")
plt.xlabel("Actual Capacity")
plt.ylabel("Predicted Capacity")
plt.legend()
plt.grid()
plt.show()
